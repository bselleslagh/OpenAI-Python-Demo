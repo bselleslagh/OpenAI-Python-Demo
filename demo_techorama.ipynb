{
 "cells": [
  {
   "cell_type": "code",
   "execution_count": 1,
   "id": "b9f6699b-9b2f-4553-a21c-b9408db6175d",
   "metadata": {
    "tags": []
   },
   "outputs": [
    {
     "name": "stderr",
     "output_type": "stream",
     "text": [
      "None of PyTorch, TensorFlow >= 2.0, or Flax have been found. Models won't be available and only tokenizers, configuration and file/data utilities can be used.\n"
     ]
    }
   ],
   "source": [
    "import openai, configparser, json, re, psycopg2\n",
    "from transformers import GPT2TokenizerFast\n",
    "from matplotlib import pyplot as plt\n",
    "import seaborn as sns\n",
    "\n",
    "import pandas as pd\n",
    "from tqdm.notebook import tqdm\n",
    "from io import StringIO\n",
    "\n",
    "#Get the API-key\n",
    "config_obj = configparser.ConfigParser()\n",
    "config_obj.read(\"config.ini\")\n",
    "\n",
    "keys = config_obj[\"OPENAI\"]\n",
    "openai.api_key = keys[\"API_KEY\"]\n",
    "\n",
    "pd.set_option('display.max_colwidth', None)"
   ]
  },
  {
   "cell_type": "code",
   "execution_count": 2,
   "id": "e31131ba-296f-47f8-aec0-c3dee27afb9a",
   "metadata": {
    "tags": []
   },
   "outputs": [],
   "source": [
    "database_logins = config_obj[\"POSTGRELOGINS\"]\n",
    "\n",
    "conn = psycopg2.connect(\n",
    "    database=\"beers\",\n",
    "    user=database_logins['USERNAME'],\n",
    "    password=database_logins['PASSWORD'],\n",
    "    host=database_logins['HOST'],\n",
    "    port=database_logins['PORT']\n",
    ")\n",
    "\n",
    "conn.autocommit = True"
   ]
  },
  {
   "cell_type": "markdown",
   "id": "b3284f72-52ef-4c71-ab85-81bd9deb62f3",
   "metadata": {},
   "source": [
    "# GPT-3 Model\n",
    "GPT-3 models can understand and generate natural language. \n",
    "There are four main models with different levels of power suitable for different tasks. Davinci is the most capable model, and Ada is the fastest. \n",
    "\n",
    "### Let's first create a completions function we can use to query the model:"
   ]
  },
  {
   "cell_type": "code",
   "execution_count": 3,
   "id": "f5dcc191-28e3-4567-a586-5917549f62fc",
   "metadata": {},
   "outputs": [],
   "source": [
    "def completions(prompt):\n",
    "    '''\n",
    "    This function will create an OpenAI completion engine, given an imput promt.\n",
    "    '''\n",
    "\n",
    "    # create a completion\n",
    "    completion = openai.Completion.create(engine=\"text-davinci-002\", #The model we wish to use\n",
    "                                          prompt=prompt, # Our input (task) for the model\n",
    "                                          temperature=0, # When temperature is above 0, results will be diffrent each time\n",
    "                                          max_tokens=256, # Maximum 2048\n",
    "                                          top_p=1, # nucleus sampling, 0.1 means only the tokens comprising the top 10% probability mass are considered\n",
    "                                          frequency_penalty=0,\n",
    "                                          presence_penalty=0\n",
    "                                         )\n",
    "\n",
    "    # print the completion\n",
    "    return completion.choices[0].text"
   ]
  },
  {
   "cell_type": "markdown",
   "id": "2c8e0e5e-7e58-4679-be9f-43b96eff4cbd",
   "metadata": {},
   "source": [
    "## Example 1: Generate a spreadsheet with beer names\n",
    "Let's ask GPT-3 to create us a spreadsheet with 10 beers, their alcohol percentage, brewer and color."
   ]
  },
  {
   "cell_type": "code",
   "execution_count": 4,
   "id": "d1e9b07b-a4e9-4fc5-8588-4540e22f8834",
   "metadata": {},
   "outputs": [],
   "source": [
    "response = completions(\"Create a 4 column spreadsheet with cars, their brand, horsepower, and price in euros. \"\\\n",
    "                    \"With 10 rows.\")"
   ]
  },
  {
   "cell_type": "code",
   "execution_count": 6,
   "id": "519d908b-2832-4dac-bf08-dd0b9188b2e9",
   "metadata": {
    "tags": []
   },
   "outputs": [
    {
     "data": {
      "text/html": [
       "<div>\n",
       "<style scoped>\n",
       "    .dataframe tbody tr th:only-of-type {\n",
       "        vertical-align: middle;\n",
       "    }\n",
       "\n",
       "    .dataframe tbody tr th {\n",
       "        vertical-align: top;\n",
       "    }\n",
       "\n",
       "    .dataframe thead th {\n",
       "        text-align: right;\n",
       "    }\n",
       "</style>\n",
       "<table border=\"1\" class=\"dataframe\">\n",
       "  <thead>\n",
       "    <tr style=\"text-align: right;\">\n",
       "      <th></th>\n",
       "      <th>Cars</th>\n",
       "      <th>Brand</th>\n",
       "      <th>Horsepower</th>\n",
       "      <th>Price in Euros</th>\n",
       "    </tr>\n",
       "  </thead>\n",
       "  <tbody>\n",
       "    <tr>\n",
       "      <th>0</th>\n",
       "      <td>Ford Mustang</td>\n",
       "      <td>Ford</td>\n",
       "      <td>300</td>\n",
       "      <td>€25,000</td>\n",
       "    </tr>\n",
       "    <tr>\n",
       "      <th>1</th>\n",
       "      <td>Chevrolet Camaro</td>\n",
       "      <td>Chevrolet</td>\n",
       "      <td>400</td>\n",
       "      <td>€30,000</td>\n",
       "    </tr>\n",
       "    <tr>\n",
       "      <th>2</th>\n",
       "      <td>Dodge Challenger</td>\n",
       "      <td>Dodge</td>\n",
       "      <td>375</td>\n",
       "      <td>€28,000</td>\n",
       "    </tr>\n",
       "    <tr>\n",
       "      <th>3</th>\n",
       "      <td>Audi R</td>\n",
       "      <td>Audi</td>\n",
       "      <td>430</td>\n",
       "      <td>€120,000</td>\n",
       "    </tr>\n",
       "    <tr>\n",
       "      <th>4</th>\n",
       "      <td>Porsche</td>\n",
       "      <td>Porsche</td>\n",
       "      <td>385</td>\n",
       "      <td>€90,000</td>\n",
       "    </tr>\n",
       "    <tr>\n",
       "      <th>5</th>\n",
       "      <td>Mercedes-Benz AMG GT</td>\n",
       "      <td>Mercedes-Benz</td>\n",
       "      <td>456</td>\n",
       "      <td>€140,000</td>\n",
       "    </tr>\n",
       "    <tr>\n",
       "      <th>6</th>\n",
       "      <td>Lamborghini Huracan</td>\n",
       "      <td>Lamborghini</td>\n",
       "      <td>610</td>\n",
       "      <td>€180,000</td>\n",
       "    </tr>\n",
       "    <tr>\n",
       "      <th>7</th>\n",
       "      <td>McLaren</td>\n",
       "      <td>McLaren</td>\n",
       "      <td>710</td>\n",
       "      <td>€280,000</td>\n",
       "    </tr>\n",
       "    <tr>\n",
       "      <th>8</th>\n",
       "      <td>Ferrari GTB</td>\n",
       "      <td>Ferrari</td>\n",
       "      <td>670</td>\n",
       "      <td>€250,000</td>\n",
       "    </tr>\n",
       "    <tr>\n",
       "      <th>9</th>\n",
       "      <td>. Bugatti Chiron</td>\n",
       "      <td>Bugatti</td>\n",
       "      <td>1500</td>\n",
       "      <td>€2,700,000</td>\n",
       "    </tr>\n",
       "  </tbody>\n",
       "</table>\n",
       "</div>"
      ],
      "text/plain": [
       "                     Cars            Brand  Horsepower Price in Euros\n",
       "0           Ford Mustang             Ford          300        €25,000\n",
       "1       Chevrolet Camaro        Chevrolet          400        €30,000\n",
       "2       Dodge Challenger            Dodge          375        €28,000\n",
       "3                  Audi R            Audi          430       €120,000\n",
       "4                Porsche          Porsche          385        €90,000\n",
       "5   Mercedes-Benz AMG GT    Mercedes-Benz          456       €140,000\n",
       "6    Lamborghini Huracan      Lamborghini          610       €180,000\n",
       "7               McLaren           McLaren          710       €280,000\n",
       "8            Ferrari GTB          Ferrari          670       €250,000\n",
       "9       . Bugatti Chiron          Bugatti         1500     €2,700,000"
      ]
     },
     "execution_count": 6,
     "metadata": {},
     "output_type": "execute_result"
    }
   ],
   "source": [
    "# Let's load these beers into a pandas DataFrame\n",
    "csvStringIO = StringIO(response)\n",
    "cars = pd.read_csv(csvStringIO, sep=\"|\")\n",
    "\n",
    "# Remove spaces from column names\n",
    "cars.columns = [i.strip() for i in cars.columns.to_list()]\n",
    "\n",
    "# Remove the numbers from the beer names\n",
    "cars.iloc[:,0] = cars.iloc[:,0].apply(lambda x: re.sub(r'\\d.', '', x))\n",
    "\n",
    "cars"
   ]
  },
  {
   "cell_type": "markdown",
   "id": "ad217452-eceb-4b0b-a070-410d2c4efd31",
   "metadata": {},
   "source": [
    "## Example 2: Create product descriptions\n",
    "\n",
    "### Beer Dataset\n",
    "- First we will generate a static description based on the attributes from the beer.\n",
    "- We will then use the description to generate a unique tagline by the AI."
   ]
  },
  {
   "cell_type": "code",
   "execution_count": null,
   "id": "4538b22f-4bf0-4996-9cf1-933145937482",
   "metadata": {
    "tags": []
   },
   "outputs": [],
   "source": [
    "def car_type(p):\n",
    "    if p < 50000:\n",
    "        return 'family'\n",
    "    if p >= 50000 and p < 100000:\n",
    "        return 'premium'\n",
    "    if p >= 1000000 :\n",
    "        return 'luxery'\n",
    "    \n",
    "cars['Segment'] = cars['Price in Euros'].str.replace(',','').apply(lambda x: beer_percentages(int(x.strip())))"
   ]
  },
  {
   "cell_type": "code",
   "execution_count": 10,
   "id": "d49b4640-3db2-469d-a9c7-f699bfccd98b",
   "metadata": {
    "tags": []
   },
   "outputs": [],
   "source": [
    "descriptions = []\n",
    "for index, row in cars.iterrows():\n",
    "    description = f\"The car name is {row['Cars']}. The brand is {row['Brand']}. The car has {row['Horsepower']} horsepower.\" \\\n",
    "    f\"It costs {row['Price in Euros']}.\"\n",
    "    descriptions.append(description)\n",
    "    \n",
    "cars['description'] = descriptions"
   ]
  },
  {
   "cell_type": "code",
   "execution_count": null,
   "id": "0887c406-2010-41f5-ace4-1cdc831cdc55",
   "metadata": {},
   "outputs": [],
   "source": [
    "cars"
   ]
  },
  {
   "cell_type": "code",
   "execution_count": null,
   "id": "77564c94-1658-4f76-8b5a-641e1d2377fe",
   "metadata": {},
   "outputs": [],
   "source": [
    "beers[['description']].head(5)"
   ]
  },
  {
   "cell_type": "code",
   "execution_count": null,
   "id": "8eed0e05-c2fe-4334-ad04-71a9db91d6cb",
   "metadata": {
    "tags": []
   },
   "outputs": [],
   "source": [
    "responses = []\n",
    "\n",
    "for description in beers['description']:\n",
    "    input_text = f'Write a product description for following the drink: {description}'\n",
    "    #print(input_text)\n",
    "    result = completions(input_text)\n",
    "    #print(result)\n",
    "    try:\n",
    "        responses.append(result)\n",
    "    except Exception as e:\n",
    "        print(e)\n",
    "        print(result)\n",
    "        \n",
    "beers['gpt_description'] = responses"
   ]
  },
  {
   "cell_type": "code",
   "execution_count": null,
   "id": "a8e59e11-c2ba-4899-9d3c-df56cb933e88",
   "metadata": {},
   "outputs": [],
   "source": [
    "beers[['gpt_description']].head(5)"
   ]
  },
  {
   "cell_type": "markdown",
   "id": "10fc6824-e9d7-496c-90a7-d432034201fb",
   "metadata": {},
   "source": [
    "## Example 3: Question Answering\n",
    "Answers (/answers) is a dedicated question-answering endpoint useful for applications that require high accuracy text generations based on sources of truth like company documentation and knowledge bases. The additional context can be provided either as a list of up to 200 documents or as a pre-uploaded file to go beyond that limit."
   ]
  },
  {
   "cell_type": "code",
   "execution_count": null,
   "id": "68ddee96-1164-4865-9ceb-2225f07d6aa9",
   "metadata": {},
   "outputs": [],
   "source": [
    "beer_stock_dataset = pd.read_csv('datasets/beer_dataset.csv')"
   ]
  },
  {
   "cell_type": "code",
   "execution_count": null,
   "id": "85ba42ce-4b29-449c-bade-01901bb0a266",
   "metadata": {},
   "outputs": [],
   "source": [
    "beer_stock_dataset"
   ]
  },
  {
   "cell_type": "code",
   "execution_count": null,
   "id": "ca72614e-8a80-4341-8f33-9b71b84068e6",
   "metadata": {},
   "outputs": [],
   "source": [
    "with open('datasets/beer_stock.jsonl', 'w+') as f:\n",
    "    for index, row in beer_stock_dataset.iterrows():\n",
    "        description = f\"The beer name is {row['Name']}. The brewery name is {row['Brewery']}. The color is {row['Type']}. There are {row['Stock']} items in stock. It's a {row['Strong']} beer.\"\n",
    "        f.write(json.dumps({\"text\": description}) + '\\n')"
   ]
  },
  {
   "cell_type": "code",
   "execution_count": null,
   "id": "431ad68e-9fc9-4e04-a56f-223dabde18cc",
   "metadata": {},
   "outputs": [],
   "source": [
    "openai.File.create(file=open(\"datasets/beer_stock.jsonl\"), purpose='answers')"
   ]
  },
  {
   "cell_type": "code",
   "execution_count": null,
   "id": "4c467677-fba4-4adc-8405-838ae8ea4dd9",
   "metadata": {},
   "outputs": [],
   "source": [
    "result = openai.Answer.create(\n",
    "    search_model=\"ada\", \n",
    "    model=\"curie\", \n",
    "    question=\"What's the color of the Aardbeien Lambic St. Louis from Van Honsebrouck ?\", \n",
    "    file=\"file-jVGzSbVxvaiCeO2J2JH8bSoK\", \n",
    "    examples_context=\"The beer name is Abdijbier Sint-Idesbald trippel. The brewery name is Damberd. \"\\\n",
    "    \"The color is brown. There are 91 items in stock. It's a strong beer.\", \n",
    "    examples=[[\"Give me the color from Abdijbier Sint-Idesbald trippel from Damberd\", \\\n",
    "               \"The color of hte beer is brown.\"]], \n",
    "    max_rerank=1,\n",
    "    max_tokens=10,\n",
    "    stop=[\"\\n\", \"<|endoftext|>\"]\n",
    ")\n",
    "\n",
    "result.answers[0]"
   ]
  },
  {
   "cell_type": "markdown",
   "id": "9c9a6d3e-5605-4721-8303-6f1d98ca6be1",
   "metadata": {},
   "source": [
    "# Codex Model \n",
    "The Codex models are descendants of the GPT-3 models that can understand and generate code. Their training data contains both natural language and billions of lines of public code from GitHub.\n",
    "\n",
    "They’re most capable in Python and proficient in over a dozen languages including JavaScript, Go, Perl, PHP, Ruby, Swift, TypeScript, SQL, and even Shell.\n",
    "## Example 1: Translate natural language to SQL Queries\n"
   ]
  },
  {
   "cell_type": "code",
   "execution_count": null,
   "id": "54e7c641-610a-4547-8de2-c8b8b82a7108",
   "metadata": {
    "jupyter": {
     "source_hidden": true
    },
    "tags": []
   },
   "outputs": [],
   "source": [
    "def codex_model(question):\n",
    "    '''\n",
    "    Here we use the Python API to call de Codex model. \n",
    "    The code-davinci-002 is the most capable engine for generating code\n",
    "    '''\n",
    "    response = openai.Completion.create(\n",
    "        engine=\"code-davinci-002\",\n",
    "        prompt=question,\n",
    "        temperature=0,\n",
    "        max_tokens=150,\n",
    "        top_p=1.0,\n",
    "        frequency_penalty=0.0,\n",
    "        presence_penalty=0.0,\n",
    "        stop=[\"#\", \";\"])\n",
    "    \n",
    "    return response.choices[0].text.strip()\n",
    "    "
   ]
  },
  {
   "cell_type": "code",
   "execution_count": null,
   "id": "7fe9f00c-9fc3-4043-a6aa-11a81f2ec0a5",
   "metadata": {},
   "outputs": [],
   "source": [
    "# Ask you question\n",
    "question = 'Show me how many beers from the type brown are sold per brewery. With more then 5 beers'"
   ]
  },
  {
   "cell_type": "code",
   "execution_count": null,
   "id": "df941365-8239-4e46-99a6-3ba8b2ab3e64",
   "metadata": {},
   "outputs": [],
   "source": [
    "cursor = conn.cursor()\n",
    "# We define the table structure so the codex model knows how to write the query\n",
    "prompt_input = f'''\n",
    "### PostgreSQL tables, with their properties:\n",
    "#\n",
    "# inventory(Name, Brewery, Type, Alcohol, Stock, Strong, Country)\n",
    "#\n",
    "### {question}\n",
    "SELECT\n",
    "'''\n",
    "\n",
    "query = 'SELECT ' + codex_model(prompt_input)\n",
    "print(query, '\\n')\n",
    "cursor.execute(query)\n",
    "df = pd.DataFrame(cursor.fetchall())\n",
    "df.columns = [desc[0] for desc in cursor.description]\n",
    "print([desc[0] for desc in cursor.description])\n",
    "df"
   ]
  },
  {
   "cell_type": "code",
   "execution_count": null,
   "id": "47fc53ac-5d1d-4087-af4f-377f1a8df1b5",
   "metadata": {},
   "outputs": [],
   "source": [
    "cursor.close()"
   ]
  },
  {
   "cell_type": "markdown",
   "id": "106b6e05-1a62-4e70-85cd-adfb2f40ad2a",
   "metadata": {},
   "source": [
    "## Example 2: Generate Python code based on natural language\n",
    "The result from the above query is stored in a dataframe named df, let's ask our model to create code to sort the dataframe alphabetically."
   ]
  },
  {
   "cell_type": "code",
   "execution_count": null,
   "id": "b5443d1e-733f-40f1-9ae2-062a1e8ba3c8",
   "metadata": {},
   "outputs": [],
   "source": [
    "question = 'Create a function that generates a seaborn bar plot for a given dataframe.' \\\n",
    "'The first column should be on the y axis and the second column on the x axis.#'"
   ]
  },
  {
   "cell_type": "code",
   "execution_count": null,
   "id": "d61ca759-81ce-4d80-9178-a9276e1920c4",
   "metadata": {},
   "outputs": [],
   "source": [
    "generated_code = codex_model(question)\n",
    "print(generated_code)\n",
    "exec(generated_code)"
   ]
  },
  {
   "cell_type": "markdown",
   "id": "0e153274-82b4-45fd-a983-a1ff2d3ecdca",
   "metadata": {},
   "source": [
    "## Example 3: Write a Python docstring for a function\n",
    "We specify the Python version, paste in the code, and then ask within a comment for a docstring, and give a characteristic beginning of a docstring (\"\"\")."
   ]
  },
  {
   "cell_type": "code",
   "execution_count": null,
   "id": "1f3fe116-c299-4dae-9927-3352d6add79e",
   "metadata": {},
   "outputs": [],
   "source": [
    "question = '# Create a high-quality docstring for the above function#'\n",
    "print(codex_model(question))"
   ]
  }
 ],
 "metadata": {
  "editor": "DataCamp Workspace",
  "kernelspec": {
   "display_name": "Python 3 (ipykernel)",
   "language": "python",
   "name": "python3"
  },
  "language_info": {
   "codemirror_mode": {
    "name": "ipython",
    "version": 3
   },
   "file_extension": ".py",
   "mimetype": "text/x-python",
   "name": "python",
   "nbconvert_exporter": "python",
   "pygments_lexer": "ipython3",
   "version": "3.10.4"
  }
 },
 "nbformat": 4,
 "nbformat_minor": 5
}
