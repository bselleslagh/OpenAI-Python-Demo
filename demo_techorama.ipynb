{
 "cells": [
  {
   "cell_type": "code",
   "execution_count": 1,
   "id": "b9f6699b-9b2f-4553-a21c-b9408db6175d",
   "metadata": {
    "tags": []
   },
   "outputs": [
    {
     "name": "stderr",
     "output_type": "stream",
     "text": [
      "None of PyTorch, TensorFlow >= 2.0, or Flax have been found. Models won't be available and only tokenizers, configuration and file/data utilities can be used.\n"
     ]
    }
   ],
   "source": [
    "import openai, configparser, json, re, psycopg2\n",
    "from transformers import GPT2TokenizerFast\n",
    "from matplotlib import pyplot as plt\n",
    "import seaborn as sns\n",
    "\n",
    "import pandas as pd\n",
    "from tqdm.notebook import tqdm\n",
    "from io import StringIO\n",
    "\n",
    "#Get the API-key\n",
    "config_obj = configparser.ConfigParser()\n",
    "config_obj.read(\"config.ini\")\n",
    "\n",
    "keys = config_obj[\"OPENAI\"]\n",
    "openai.api_key = keys[\"API_KEY\"]\n",
    "\n",
    "pd.set_option('display.max_colwidth', None)"
   ]
  },
  {
   "cell_type": "code",
   "execution_count": 2,
   "id": "e31131ba-296f-47f8-aec0-c3dee27afb9a",
   "metadata": {
    "tags": []
   },
   "outputs": [],
   "source": [
    "database_logins = config_obj[\"POSTGRELOGINS\"]\n",
    "\n",
    "conn = psycopg2.connect(\n",
    "    database=\"beers\",\n",
    "    user=database_logins['USERNAME'],\n",
    "    password=database_logins['PASSWORD'],\n",
    "    host=database_logins['HOST'],\n",
    "    port=database_logins['PORT']\n",
    ")\n",
    "\n",
    "conn.autocommit = True"
   ]
  },
  {
   "cell_type": "markdown",
   "id": "b3284f72-52ef-4c71-ab85-81bd9deb62f3",
   "metadata": {},
   "source": [
    "# GPT-3 Model\n",
    "GPT-3 models can understand and generate natural language. \n",
    "There are four main models with different levels of power suitable for different tasks. Davinci is the most capable model, and Ada is the fastest. \n",
    "\n",
    "### Let's first create a completions function we can use to query the model:"
   ]
  },
  {
   "cell_type": "code",
   "execution_count": 3,
   "id": "f5dcc191-28e3-4567-a586-5917549f62fc",
   "metadata": {},
   "outputs": [],
   "source": [
    "def completions(prompt):\n",
    "    '''\n",
    "    This function will create an OpenAI completion engine, given the following keyword arguments.\n",
    "    - engine: the model we whish to use\n",
    "    - promt: our query for the model\n",
    "    - temperature: do we need determinisic results or do\n",
    "    '''\n",
    "\n",
    "    # create a completion\n",
    "    completion = openai.Completion.create(engine=\"text-davinci-002\", \n",
    "                                          prompt=prompt,\n",
    "                                          temperature=0,\n",
    "                                          max_tokens=256,\n",
    "                                          top_p=1,\n",
    "                                          frequency_penalty=0,\n",
    "                                          presence_penalty=0\n",
    "                                         )\n",
    "\n",
    "    # print the completion\n",
    "    return completion.choices[0].text"
   ]
  },
  {
   "cell_type": "markdown",
   "id": "2c8e0e5e-7e58-4679-be9f-43b96eff4cbd",
   "metadata": {},
   "source": [
    "## Example 1: Generate a spreadsheet with beer names\n",
    "Let's ask GPT-3 to create us a spreadsheet with 10 beers, their alcohol percentage, brewer and color."
   ]
  },
  {
   "cell_type": "code",
   "execution_count": 4,
   "id": "d1e9b07b-a4e9-4fc5-8588-4540e22f8834",
   "metadata": {},
   "outputs": [],
   "source": [
    "beers = completions(\"Create a 4 column spreadsheet with beer names, their alcohol percentage, \"\\\n",
    "                    \"brewery and color. With 10 rows.\")"
   ]
  },
  {
   "cell_type": "code",
   "execution_count": 5,
   "id": "519d908b-2832-4dac-bf08-dd0b9188b2e9",
   "metadata": {
    "tags": []
   },
   "outputs": [
    {
     "data": {
      "text/html": [
       "<div>\n",
       "<style scoped>\n",
       "    .dataframe tbody tr th:only-of-type {\n",
       "        vertical-align: middle;\n",
       "    }\n",
       "\n",
       "    .dataframe tbody tr th {\n",
       "        vertical-align: top;\n",
       "    }\n",
       "\n",
       "    .dataframe thead th {\n",
       "        text-align: right;\n",
       "    }\n",
       "</style>\n",
       "<table border=\"1\" class=\"dataframe\">\n",
       "  <thead>\n",
       "    <tr style=\"text-align: right;\">\n",
       "      <th></th>\n",
       "      <th>Name</th>\n",
       "      <th>Alcohol %</th>\n",
       "      <th>Brewery</th>\n",
       "      <th>Color</th>\n",
       "    </tr>\n",
       "  </thead>\n",
       "  <tbody>\n",
       "    <tr>\n",
       "      <th>0</th>\n",
       "      <td>Budweiser</td>\n",
       "      <td>5%</td>\n",
       "      <td>Anheuser-Busch</td>\n",
       "      <td>Pale lager</td>\n",
       "    </tr>\n",
       "    <tr>\n",
       "      <th>1</th>\n",
       "      <td>Coors Light</td>\n",
       "      <td>4.2%</td>\n",
       "      <td>Coors Brewing Company</td>\n",
       "      <td>Pale lager</td>\n",
       "    </tr>\n",
       "    <tr>\n",
       "      <th>2</th>\n",
       "      <td>Miller Lite</td>\n",
       "      <td>4.2%</td>\n",
       "      <td>Miller Brewing Company</td>\n",
       "      <td>Pale lager</td>\n",
       "    </tr>\n",
       "    <tr>\n",
       "      <th>3</th>\n",
       "      <td>Corona Extra</td>\n",
       "      <td>4.6%</td>\n",
       "      <td>Grupo Modelo</td>\n",
       "      <td>Pale lager</td>\n",
       "    </tr>\n",
       "    <tr>\n",
       "      <th>4</th>\n",
       "      <td>Heineken</td>\n",
       "      <td>5%</td>\n",
       "      <td>Heineken International</td>\n",
       "      <td>Pale lager</td>\n",
       "    </tr>\n",
       "    <tr>\n",
       "      <th>5</th>\n",
       "      <td>Guinness Draught</td>\n",
       "      <td>4.2%</td>\n",
       "      <td>Guinness Brewery</td>\n",
       "      <td>Irish dry stout</td>\n",
       "    </tr>\n",
       "    <tr>\n",
       "      <th>6</th>\n",
       "      <td>Stella Artois</td>\n",
       "      <td>5%</td>\n",
       "      <td>Anheuser-Busch InBev</td>\n",
       "      <td>Belgian pale lager</td>\n",
       "    </tr>\n",
       "    <tr>\n",
       "      <th>7</th>\n",
       "      <td>Samuel Adams Boston Lager</td>\n",
       "      <td>4.9%</td>\n",
       "      <td>Boston Beer Company</td>\n",
       "      <td>American amber lager</td>\n",
       "    </tr>\n",
       "    <tr>\n",
       "      <th>8</th>\n",
       "      <td>Sierra Nevada Pale Ale</td>\n",
       "      <td>5.6%</td>\n",
       "      <td>Sierra Nevada Brewing Company</td>\n",
       "      <td>American pale ale</td>\n",
       "    </tr>\n",
       "    <tr>\n",
       "      <th>9</th>\n",
       "      <td>. Fat Tire Amber Ale</td>\n",
       "      <td>5.2%</td>\n",
       "      <td>New Belgium Brewing Company</td>\n",
       "      <td>American amber ale</td>\n",
       "    </tr>\n",
       "  </tbody>\n",
       "</table>\n",
       "</div>"
      ],
      "text/plain": [
       "                          Name Alcohol %                          Brewery  \\\n",
       "0                   Budweiser        5%                   Anheuser-Busch    \n",
       "1                 Coors Light      4.2%            Coors Brewing Company    \n",
       "2                 Miller Lite      4.2%           Miller Brewing Company    \n",
       "3                Corona Extra      4.6%                     Grupo Modelo    \n",
       "4                    Heineken        5%           Heineken International    \n",
       "5            Guinness Draught      4.2%                 Guinness Brewery    \n",
       "6               Stella Artois        5%             Anheuser-Busch InBev    \n",
       "7   Samuel Adams Boston Lager      4.9%              Boston Beer Company    \n",
       "8      Sierra Nevada Pale Ale      5.6%    Sierra Nevada Brewing Company    \n",
       "9        . Fat Tire Amber Ale      5.2%      New Belgium Brewing Company    \n",
       "\n",
       "                   Color  \n",
       "0             Pale lager  \n",
       "1             Pale lager  \n",
       "2             Pale lager  \n",
       "3             Pale lager  \n",
       "4             Pale lager  \n",
       "5        Irish dry stout  \n",
       "6     Belgian pale lager  \n",
       "7   American amber lager  \n",
       "8      American pale ale  \n",
       "9     American amber ale  "
      ]
     },
     "execution_count": 5,
     "metadata": {},
     "output_type": "execute_result"
    }
   ],
   "source": [
    "# Let's load these beers into a pandas DataFrame\n",
    "csvStringIO = StringIO(beers)\n",
    "beers = pd.read_csv(csvStringIO, sep=\"|\")\n",
    "\n",
    "# Remove spaces from column names\n",
    "beers.columns = [i.strip() for i in beers.columns.to_list()]\n",
    "\n",
    "# Remove the numbers from the beer names\n",
    "beers['Name'] = beers['Name'].apply(lambda x: re.sub(r'\\d.', '', x))\n",
    "\n",
    "beers"
   ]
  },
  {
   "cell_type": "markdown",
   "id": "ad217452-eceb-4b0b-a070-410d2c4efd31",
   "metadata": {},
   "source": [
    "## Example 2: Create product descriptions\n",
    "\n",
    "### Beer Dataset\n",
    "- First we will generate a static description based on the attributes from the beer.\n",
    "- We will then use the description to generate a unique tagline by the AI."
   ]
  },
  {
   "cell_type": "code",
   "execution_count": 6,
   "id": "4538b22f-4bf0-4996-9cf1-933145937482",
   "metadata": {
    "tags": []
   },
   "outputs": [],
   "source": [
    "def beer_percentages(p):\n",
    "    if p < 4.8:\n",
    "        return 'light'\n",
    "    if p >= 4.8 and p < 7.05:\n",
    "        return 'normal'\n",
    "    if p >= 7.05 :\n",
    "        return 'strong'\n",
    "    \n",
    "beers['Strong'] = beers['Alcohol %'].str.replace('%','').astype('float').apply(lambda x: beer_percentages(x))"
   ]
  },
  {
   "cell_type": "code",
   "execution_count": 7,
   "id": "d49b4640-3db2-469d-a9c7-f699bfccd98b",
   "metadata": {
    "tags": []
   },
   "outputs": [],
   "source": [
    "descriptions = []\n",
    "for index, row in beers.iterrows():\n",
    "    description = f\"The beer name is {row['Name']}. The brewery is {row['Brewery']}. The type is a {row['Color']}.\\\n",
    "    It is a {row['Strong']} beer. The alcohol percentage is {row['Alcohol %']}.\"\n",
    "    descriptions.append(description)\n",
    "    \n",
    "beers['description'] = descriptions"
   ]
  },
  {
   "cell_type": "code",
   "execution_count": 8,
   "id": "77564c94-1658-4f76-8b5a-641e1d2377fe",
   "metadata": {},
   "outputs": [
    {
     "data": {
      "text/html": [
       "<div>\n",
       "<style scoped>\n",
       "    .dataframe tbody tr th:only-of-type {\n",
       "        vertical-align: middle;\n",
       "    }\n",
       "\n",
       "    .dataframe tbody tr th {\n",
       "        vertical-align: top;\n",
       "    }\n",
       "\n",
       "    .dataframe thead th {\n",
       "        text-align: right;\n",
       "    }\n",
       "</style>\n",
       "<table border=\"1\" class=\"dataframe\">\n",
       "  <thead>\n",
       "    <tr style=\"text-align: right;\">\n",
       "      <th></th>\n",
       "      <th>description</th>\n",
       "    </tr>\n",
       "  </thead>\n",
       "  <tbody>\n",
       "    <tr>\n",
       "      <th>0</th>\n",
       "      <td>The beer name is  Budweiser . The brewery is  Anheuser-Busch . The type is a  Pale lager.    It is a normal beer. The alcohol percentage is  5% .</td>\n",
       "    </tr>\n",
       "    <tr>\n",
       "      <th>1</th>\n",
       "      <td>The beer name is  Coors Light . The brewery is  Coors Brewing Company . The type is a  Pale lager.    It is a light beer. The alcohol percentage is  4.2% .</td>\n",
       "    </tr>\n",
       "    <tr>\n",
       "      <th>2</th>\n",
       "      <td>The beer name is  Miller Lite . The brewery is  Miller Brewing Company . The type is a  Pale lager.    It is a light beer. The alcohol percentage is  4.2% .</td>\n",
       "    </tr>\n",
       "    <tr>\n",
       "      <th>3</th>\n",
       "      <td>The beer name is  Corona Extra . The brewery is  Grupo Modelo . The type is a  Pale lager.    It is a light beer. The alcohol percentage is  4.6% .</td>\n",
       "    </tr>\n",
       "    <tr>\n",
       "      <th>4</th>\n",
       "      <td>The beer name is  Heineken . The brewery is  Heineken International . The type is a  Pale lager.    It is a normal beer. The alcohol percentage is  5% .</td>\n",
       "    </tr>\n",
       "    <tr>\n",
       "      <th>5</th>\n",
       "      <td>The beer name is  Guinness Draught . The brewery is  Guinness Brewery . The type is a  Irish dry stout.    It is a light beer. The alcohol percentage is  4.2% .</td>\n",
       "    </tr>\n",
       "    <tr>\n",
       "      <th>6</th>\n",
       "      <td>The beer name is  Stella Artois . The brewery is  Anheuser-Busch InBev . The type is a  Belgian pale lager.    It is a normal beer. The alcohol percentage is  5% .</td>\n",
       "    </tr>\n",
       "    <tr>\n",
       "      <th>7</th>\n",
       "      <td>The beer name is  Samuel Adams Boston Lager . The brewery is  Boston Beer Company . The type is a  American amber lager.    It is a normal beer. The alcohol percentage is  4.9% .</td>\n",
       "    </tr>\n",
       "    <tr>\n",
       "      <th>8</th>\n",
       "      <td>The beer name is  Sierra Nevada Pale Ale . The brewery is  Sierra Nevada Brewing Company . The type is a  American pale ale.    It is a normal beer. The alcohol percentage is  5.6% .</td>\n",
       "    </tr>\n",
       "    <tr>\n",
       "      <th>9</th>\n",
       "      <td>The beer name is . Fat Tire Amber Ale . The brewery is  New Belgium Brewing Company . The type is a  American amber ale.    It is a normal beer. The alcohol percentage is  5.2% .</td>\n",
       "    </tr>\n",
       "  </tbody>\n",
       "</table>\n",
       "</div>"
      ],
      "text/plain": [
       "                                                                                                                                                                              description\n",
       "0                                       The beer name is  Budweiser . The brewery is  Anheuser-Busch . The type is a  Pale lager.    It is a normal beer. The alcohol percentage is  5% .\n",
       "1                             The beer name is  Coors Light . The brewery is  Coors Brewing Company . The type is a  Pale lager.    It is a light beer. The alcohol percentage is  4.2% .\n",
       "2                            The beer name is  Miller Lite . The brewery is  Miller Brewing Company . The type is a  Pale lager.    It is a light beer. The alcohol percentage is  4.2% .\n",
       "3                                     The beer name is  Corona Extra . The brewery is  Grupo Modelo . The type is a  Pale lager.    It is a light beer. The alcohol percentage is  4.6% .\n",
       "4                                The beer name is  Heineken . The brewery is  Heineken International . The type is a  Pale lager.    It is a normal beer. The alcohol percentage is  5% .\n",
       "5                        The beer name is  Guinness Draught . The brewery is  Guinness Brewery . The type is a  Irish dry stout.    It is a light beer. The alcohol percentage is  4.2% .\n",
       "6                     The beer name is  Stella Artois . The brewery is  Anheuser-Busch InBev . The type is a  Belgian pale lager.    It is a normal beer. The alcohol percentage is  5% .\n",
       "7      The beer name is  Samuel Adams Boston Lager . The brewery is  Boston Beer Company . The type is a  American amber lager.    It is a normal beer. The alcohol percentage is  4.9% .\n",
       "8  The beer name is  Sierra Nevada Pale Ale . The brewery is  Sierra Nevada Brewing Company . The type is a  American pale ale.    It is a normal beer. The alcohol percentage is  5.6% .\n",
       "9      The beer name is . Fat Tire Amber Ale . The brewery is  New Belgium Brewing Company . The type is a  American amber ale.    It is a normal beer. The alcohol percentage is  5.2% ."
      ]
     },
     "execution_count": 8,
     "metadata": {},
     "output_type": "execute_result"
    }
   ],
   "source": [
    "beers[['description']]"
   ]
  },
  {
   "cell_type": "code",
   "execution_count": 9,
   "id": "8eed0e05-c2fe-4334-ad04-71a9db91d6cb",
   "metadata": {
    "tags": []
   },
   "outputs": [],
   "source": [
    "responses = []\n",
    "\n",
    "for description in beers['description']:\n",
    "    input_text = f'Write a product discription for: {description}'\n",
    "    #print(input_text)\n",
    "    result = completions(input_text)\n",
    "    #print(result)\n",
    "    try:\n",
    "        responses.append(result)\n",
    "    except Exception as e:\n",
    "        print(e)\n",
    "        print(result)\n",
    "        \n",
    "beers['gpt_description'] = responses"
   ]
  },
  {
   "cell_type": "code",
   "execution_count": 10,
   "id": "a8e59e11-c2ba-4899-9d3c-df56cb933e88",
   "metadata": {},
   "outputs": [
    {
     "data": {
      "text/html": [
       "<div>\n",
       "<style scoped>\n",
       "    .dataframe tbody tr th:only-of-type {\n",
       "        vertical-align: middle;\n",
       "    }\n",
       "\n",
       "    .dataframe tbody tr th {\n",
       "        vertical-align: top;\n",
       "    }\n",
       "\n",
       "    .dataframe thead th {\n",
       "        text-align: right;\n",
       "    }\n",
       "</style>\n",
       "<table border=\"1\" class=\"dataframe\">\n",
       "  <thead>\n",
       "    <tr style=\"text-align: right;\">\n",
       "      <th></th>\n",
       "      <th>gpt_description</th>\n",
       "    </tr>\n",
       "  </thead>\n",
       "  <tbody>\n",
       "    <tr>\n",
       "      <th>0</th>\n",
       "      <td>\\n\\nBudweiser is a pale lager that is brewed by Anheuser-Busch. It has an alcohol percentage of 5%. It is a normal beer.</td>\n",
       "    </tr>\n",
       "    <tr>\n",
       "      <th>1</th>\n",
       "      <td>\\n\\nCoors Light is a light beer that is perfect for those who are looking to enjoy a refreshing beverage without the heaviness of a traditional beer. It has a 4.2% alcohol content, making it a great choice for those who are looking to enjoy a beer without getting too buzzed.</td>\n",
       "    </tr>\n",
       "    <tr>\n",
       "      <th>2</th>\n",
       "      <td>\\n\\nMiller Lite is a light beer from Miller Brewing Company. It is a pale lager with an alcohol percentage of 4.2%.</td>\n",
       "    </tr>\n",
       "    <tr>\n",
       "      <th>3</th>\n",
       "      <td>\\n\\nCorona Extra is a light beer that is perfect for any occasion. It has a 4.6% alcohol content, making it a great choice for those who want to enjoy a beer without getting too drunk. The beer is brewed by Grupo Modelo, and is a pale lager. This means that it is a light beer with a slightly sweet taste.</td>\n",
       "    </tr>\n",
       "    <tr>\n",
       "      <th>4</th>\n",
       "      <td>\\n\\nHeineken is a pale lager that is brewed by Heineken International. The alcohol percentage is 5%. It is a normal beer.</td>\n",
       "    </tr>\n",
       "  </tbody>\n",
       "</table>\n",
       "</div>"
      ],
      "text/plain": [
       "                                                                                                                                                                                                                                                                                                     gpt_description\n",
       "0                                                                                                                                                                                           \\n\\nBudweiser is a pale lager that is brewed by Anheuser-Busch. It has an alcohol percentage of 5%. It is a normal beer.\n",
       "1                                \\n\\nCoors Light is a light beer that is perfect for those who are looking to enjoy a refreshing beverage without the heaviness of a traditional beer. It has a 4.2% alcohol content, making it a great choice for those who are looking to enjoy a beer without getting too buzzed.\n",
       "2                                                                                                                                                                                                \\n\\nMiller Lite is a light beer from Miller Brewing Company. It is a pale lager with an alcohol percentage of 4.2%.\n",
       "3  \\n\\nCorona Extra is a light beer that is perfect for any occasion. It has a 4.6% alcohol content, making it a great choice for those who want to enjoy a beer without getting too drunk. The beer is brewed by Grupo Modelo, and is a pale lager. This means that it is a light beer with a slightly sweet taste.\n",
       "4                                                                                                                                                                                          \\n\\nHeineken is a pale lager that is brewed by Heineken International. The alcohol percentage is 5%. It is a normal beer."
      ]
     },
     "execution_count": 10,
     "metadata": {},
     "output_type": "execute_result"
    }
   ],
   "source": [
    "beers[['gpt_description']].head(5)"
   ]
  },
  {
   "cell_type": "markdown",
   "id": "10fc6824-e9d7-496c-90a7-d432034201fb",
   "metadata": {},
   "source": [
    "## Example 3: Question Answering\n",
    "Answers (/answers) is a dedicated question-answering endpoint useful for applications that require high accuracy text generations based on sources of truth like company documentation and knowledge bases. The additional context can be provided either as a list of up to 200 documents or as a pre-uploaded file to go beyond that limit."
   ]
  },
  {
   "cell_type": "code",
   "execution_count": 11,
   "id": "68ddee96-1164-4865-9ceb-2225f07d6aa9",
   "metadata": {},
   "outputs": [],
   "source": [
    "beer_stock_dataset = pd.read_csv('datasets/beer_dataset.csv')"
   ]
  },
  {
   "cell_type": "code",
   "execution_count": 12,
   "id": "85ba42ce-4b29-449c-bade-01901bb0a266",
   "metadata": {},
   "outputs": [
    {
     "data": {
      "text/html": [
       "<div>\n",
       "<style scoped>\n",
       "    .dataframe tbody tr th:only-of-type {\n",
       "        vertical-align: middle;\n",
       "    }\n",
       "\n",
       "    .dataframe tbody tr th {\n",
       "        vertical-align: top;\n",
       "    }\n",
       "\n",
       "    .dataframe thead th {\n",
       "        text-align: right;\n",
       "    }\n",
       "</style>\n",
       "<table border=\"1\" class=\"dataframe\">\n",
       "  <thead>\n",
       "    <tr style=\"text-align: right;\">\n",
       "      <th></th>\n",
       "      <th>Unnamed: 0</th>\n",
       "      <th>Name</th>\n",
       "      <th>Brewery</th>\n",
       "      <th>Type</th>\n",
       "      <th>Alcohol</th>\n",
       "      <th>Stock</th>\n",
       "      <th>Strong</th>\n",
       "      <th>Country</th>\n",
       "    </tr>\n",
       "  </thead>\n",
       "  <tbody>\n",
       "    <tr>\n",
       "      <th>0</th>\n",
       "      <td>0</td>\n",
       "      <td>Aardbeien Lambic St. Louis</td>\n",
       "      <td>Van Honsebrouck</td>\n",
       "      <td>red</td>\n",
       "      <td>5.00%</td>\n",
       "      <td>18</td>\n",
       "      <td>normal</td>\n",
       "      <td>Belgium</td>\n",
       "    </tr>\n",
       "    <tr>\n",
       "      <th>1</th>\n",
       "      <td>1</td>\n",
       "      <td>Aarschotse Brown</td>\n",
       "      <td>De Biertoren</td>\n",
       "      <td>brown</td>\n",
       "      <td>4.00%</td>\n",
       "      <td>4</td>\n",
       "      <td>light</td>\n",
       "      <td>Belgium</td>\n",
       "    </tr>\n",
       "    <tr>\n",
       "      <th>2</th>\n",
       "      <td>2</td>\n",
       "      <td>Abbaye de Bonne-Esperance</td>\n",
       "      <td>Lefebvre</td>\n",
       "      <td>amber</td>\n",
       "      <td>8.00%</td>\n",
       "      <td>93</td>\n",
       "      <td>strong</td>\n",
       "      <td>Belgium</td>\n",
       "    </tr>\n",
       "    <tr>\n",
       "      <th>3</th>\n",
       "      <td>3</td>\n",
       "      <td>Abbaye de Brogne donker</td>\n",
       "      <td>De Smedt</td>\n",
       "      <td>unknown</td>\n",
       "      <td>6.70%</td>\n",
       "      <td>48</td>\n",
       "      <td>normal</td>\n",
       "      <td>Belgium</td>\n",
       "    </tr>\n",
       "    <tr>\n",
       "      <th>4</th>\n",
       "      <td>4</td>\n",
       "      <td>Abbaye de Cambron</td>\n",
       "      <td>Brasserie de Silly</td>\n",
       "      <td>amber</td>\n",
       "      <td>6.50%</td>\n",
       "      <td>72</td>\n",
       "      <td>normal</td>\n",
       "      <td>Belgium</td>\n",
       "    </tr>\n",
       "    <tr>\n",
       "      <th>...</th>\n",
       "      <td>...</td>\n",
       "      <td>...</td>\n",
       "      <td>...</td>\n",
       "      <td>...</td>\n",
       "      <td>...</td>\n",
       "      <td>...</td>\n",
       "      <td>...</td>\n",
       "      <td>...</td>\n",
       "    </tr>\n",
       "    <tr>\n",
       "      <th>685</th>\n",
       "      <td>685</td>\n",
       "      <td>Yperman</td>\n",
       "      <td>Het Sas/Leroy</td>\n",
       "      <td>unknown</td>\n",
       "      <td>6.00%</td>\n",
       "      <td>51</td>\n",
       "      <td>normal</td>\n",
       "      <td>Belgium</td>\n",
       "    </tr>\n",
       "    <tr>\n",
       "      <th>686</th>\n",
       "      <td>686</td>\n",
       "      <td>Zeelse houten kop</td>\n",
       "      <td>Huyghe</td>\n",
       "      <td>unknown</td>\n",
       "      <td>NaN</td>\n",
       "      <td>46</td>\n",
       "      <td>NaN</td>\n",
       "      <td>Belgium</td>\n",
       "    </tr>\n",
       "    <tr>\n",
       "      <th>687</th>\n",
       "      <td>687</td>\n",
       "      <td>Zottegems</td>\n",
       "      <td>Cromb</td>\n",
       "      <td>dark</td>\n",
       "      <td>4.50%</td>\n",
       "      <td>52</td>\n",
       "      <td>light</td>\n",
       "      <td>Belgium</td>\n",
       "    </tr>\n",
       "    <tr>\n",
       "      <th>688</th>\n",
       "      <td>688</td>\n",
       "      <td>Zottegemse Grand Cru</td>\n",
       "      <td>Cromb</td>\n",
       "      <td>unknown</td>\n",
       "      <td>8.40%</td>\n",
       "      <td>8</td>\n",
       "      <td>strong</td>\n",
       "      <td>Belgium</td>\n",
       "    </tr>\n",
       "    <tr>\n",
       "      <th>689</th>\n",
       "      <td>689</td>\n",
       "      <td>Zulte oud bruin</td>\n",
       "      <td>Alken-Maes</td>\n",
       "      <td>brown</td>\n",
       "      <td>4.00%</td>\n",
       "      <td>64</td>\n",
       "      <td>light</td>\n",
       "      <td>Belgium</td>\n",
       "    </tr>\n",
       "  </tbody>\n",
       "</table>\n",
       "<p>690 rows × 8 columns</p>\n",
       "</div>"
      ],
      "text/plain": [
       "     Unnamed: 0                        Name             Brewery     Type  \\\n",
       "0             0  Aardbeien Lambic St. Louis     Van Honsebrouck      red   \n",
       "1             1            Aarschotse Brown        De Biertoren    brown   \n",
       "2             2   Abbaye de Bonne-Esperance            Lefebvre    amber   \n",
       "3             3     Abbaye de Brogne donker            De Smedt  unknown   \n",
       "4             4           Abbaye de Cambron  Brasserie de Silly    amber   \n",
       "..          ...                         ...                 ...      ...   \n",
       "685         685                     Yperman       Het Sas/Leroy  unknown   \n",
       "686         686           Zeelse houten kop              Huyghe  unknown   \n",
       "687         687                   Zottegems               Cromb     dark   \n",
       "688         688        Zottegemse Grand Cru               Cromb  unknown   \n",
       "689         689             Zulte oud bruin          Alken-Maes    brown   \n",
       "\n",
       "    Alcohol  Stock  Strong  Country  \n",
       "0     5.00%     18  normal  Belgium  \n",
       "1     4.00%      4   light  Belgium  \n",
       "2     8.00%     93  strong  Belgium  \n",
       "3     6.70%     48  normal  Belgium  \n",
       "4     6.50%     72  normal  Belgium  \n",
       "..      ...    ...     ...      ...  \n",
       "685   6.00%     51  normal  Belgium  \n",
       "686     NaN     46     NaN  Belgium  \n",
       "687   4.50%     52   light  Belgium  \n",
       "688   8.40%      8  strong  Belgium  \n",
       "689   4.00%     64   light  Belgium  \n",
       "\n",
       "[690 rows x 8 columns]"
      ]
     },
     "execution_count": 12,
     "metadata": {},
     "output_type": "execute_result"
    }
   ],
   "source": [
    "beer_stock_dataset"
   ]
  },
  {
   "cell_type": "code",
   "execution_count": 14,
   "id": "ca72614e-8a80-4341-8f33-9b71b84068e6",
   "metadata": {},
   "outputs": [],
   "source": [
    "with open('datasets/beer_stock.jsonl', 'w+') as f:\n",
    "    for index, row in beer_stock_dataset.iterrows():\n",
    "        description = f\"The beer name is {row['Name']}. The brewery name is {row['Brewery']}. The color is {row['Type']}. There are {row['Stock']} items in stock. It's a {row['Strong']} beer.\"\n",
    "        f.write(json.dumps({\"text\": description}) + '\\n')"
   ]
  },
  {
   "cell_type": "code",
   "execution_count": 15,
   "id": "431ad68e-9fc9-4e04-a56f-223dabde18cc",
   "metadata": {},
   "outputs": [
    {
     "data": {
      "text/plain": [
       "<File file id=file-jVGzSbVxvaiCeO2J2JH8bSoK at 0x7f5b1e770900> JSON: {\n",
       "  \"bytes\": 100920,\n",
       "  \"created_at\": 1653296569,\n",
       "  \"filename\": \"file\",\n",
       "  \"id\": \"file-jVGzSbVxvaiCeO2J2JH8bSoK\",\n",
       "  \"object\": \"file\",\n",
       "  \"purpose\": \"answers\",\n",
       "  \"status\": \"uploaded\",\n",
       "  \"status_details\": null\n",
       "}"
      ]
     },
     "execution_count": 15,
     "metadata": {},
     "output_type": "execute_result"
    }
   ],
   "source": [
    "openai.File.create(file=open(\"datasets/beer_stock.jsonl\"), purpose='answers')"
   ]
  },
  {
   "cell_type": "code",
   "execution_count": 20,
   "id": "4c467677-fba4-4adc-8405-838ae8ea4dd9",
   "metadata": {},
   "outputs": [
    {
     "data": {
      "text/plain": [
       "'The color of the beer is red.'"
      ]
     },
     "execution_count": 20,
     "metadata": {},
     "output_type": "execute_result"
    }
   ],
   "source": [
    "result = openai.Answer.create(\n",
    "    search_model=\"ada\", \n",
    "    model=\"curie\", \n",
    "    question=\"What's the color of the Aardbeien Lambic St. Louis from Van Honsebrouck ?\", \n",
    "    file=\"file-jVGzSbVxvaiCeO2J2JH8bSoK\", \n",
    "    examples_context=\"The beer name is Abdijbier Sint-Idesbald trippel. The brewery name is Damberd. \"\\\n",
    "    \"The color is brown. There are 91 items in stock. It's a strong beer.\", \n",
    "    examples=[[\"Give me the color from Abdijbier Sint-Idesbald trippel from Damberd\", \\\n",
    "               \"The color of hte beer is brown.\"]], \n",
    "    max_rerank=1,\n",
    "    max_tokens=10,\n",
    "    stop=[\"\\n\", \"<|endoftext|>\"]\n",
    ")\n",
    "\n",
    "result.answers[0]"
   ]
  },
  {
   "cell_type": "markdown",
   "id": "9c9a6d3e-5605-4721-8303-6f1d98ca6be1",
   "metadata": {},
   "source": [
    "# Codex Model \n",
    "The Codex models are descendants of the GPT-3 models that can understand and generate code. Their training data contains both natural language and billions of lines of public code from GitHub.\n",
    "\n",
    "They’re most capable in Python and proficient in over a dozen languages including JavaScript, Go, Perl, PHP, Ruby, Swift, TypeScript, SQL, and even Shell.\n",
    "## Example 1: Translate natural language to SQL Queries\n"
   ]
  },
  {
   "cell_type": "code",
   "execution_count": 34,
   "id": "54e7c641-610a-4547-8de2-c8b8b82a7108",
   "metadata": {
    "jupyter": {
     "source_hidden": true
    },
    "tags": []
   },
   "outputs": [],
   "source": [
    "def codex_model(question):\n",
    "    '''\n",
    "    Here we use the Python API to call de Codex model. \n",
    "    The code-davinci-002 is the most capable engine for generating code\n",
    "    '''\n",
    "    response = openai.Completion.create(\n",
    "        engine=\"code-davinci-002\",\n",
    "        prompt=question,\n",
    "        temperature=0,\n",
    "        max_tokens=150,\n",
    "        top_p=1.0,\n",
    "        frequency_penalty=0.0,\n",
    "        presence_penalty=0.0,\n",
    "        stop=[\"#\", \";\"])\n",
    "    \n",
    "    return response.choices[0].text.strip()\n",
    "    "
   ]
  },
  {
   "cell_type": "code",
   "execution_count": 67,
   "id": "7fe9f00c-9fc3-4043-a6aa-11a81f2ec0a5",
   "metadata": {},
   "outputs": [],
   "source": [
    "# Ask you question\n",
    "question = 'Show me how many beers from the type brown are sold per brewery. With more then 5 beers'"
   ]
  },
  {
   "cell_type": "code",
   "execution_count": 68,
   "id": "df941365-8239-4e46-99a6-3ba8b2ab3e64",
   "metadata": {},
   "outputs": [
    {
     "name": "stdout",
     "output_type": "stream",
     "text": [
      "SELECT Brewery,\n",
      "    COUNT(Name) AS \"Number of beers\"\n",
      "FROM\n",
      "    inventory\n",
      "WHERE\n",
      "    Type = 'brown'\n",
      "GROUP BY\n",
      "    Brewery\n",
      "HAVING\n",
      "    COUNT(Name) > 5 \n",
      "\n",
      "['brewery', 'Number of beers']\n"
     ]
    },
    {
     "data": {
      "text/html": [
       "<div>\n",
       "<style scoped>\n",
       "    .dataframe tbody tr th:only-of-type {\n",
       "        vertical-align: middle;\n",
       "    }\n",
       "\n",
       "    .dataframe tbody tr th {\n",
       "        vertical-align: top;\n",
       "    }\n",
       "\n",
       "    .dataframe thead th {\n",
       "        text-align: right;\n",
       "    }\n",
       "</style>\n",
       "<table border=\"1\" class=\"dataframe\">\n",
       "  <thead>\n",
       "    <tr style=\"text-align: right;\">\n",
       "      <th></th>\n",
       "      <th>brewery</th>\n",
       "      <th>Number of beers</th>\n",
       "    </tr>\n",
       "  </thead>\n",
       "  <tbody>\n",
       "    <tr>\n",
       "      <th>0</th>\n",
       "      <td>Alken-Maes</td>\n",
       "      <td>15</td>\n",
       "    </tr>\n",
       "    <tr>\n",
       "      <th>1</th>\n",
       "      <td>Moortgat</td>\n",
       "      <td>6</td>\n",
       "    </tr>\n",
       "    <tr>\n",
       "      <th>2</th>\n",
       "      <td>Piedboeuf</td>\n",
       "      <td>9</td>\n",
       "    </tr>\n",
       "    <tr>\n",
       "      <th>3</th>\n",
       "      <td>Roman</td>\n",
       "      <td>7</td>\n",
       "    </tr>\n",
       "    <tr>\n",
       "      <th>4</th>\n",
       "      <td>Slaghmuylder</td>\n",
       "      <td>7</td>\n",
       "    </tr>\n",
       "  </tbody>\n",
       "</table>\n",
       "</div>"
      ],
      "text/plain": [
       "        brewery  Number of beers\n",
       "0    Alken-Maes               15\n",
       "1      Moortgat                6\n",
       "2     Piedboeuf                9\n",
       "3         Roman                7\n",
       "4  Slaghmuylder                7"
      ]
     },
     "execution_count": 68,
     "metadata": {},
     "output_type": "execute_result"
    }
   ],
   "source": [
    "cursor = conn.cursor()\n",
    "# We define the table structure so the codex model knows how to write the query\n",
    "prompt_input = f'''\n",
    "### PostgreSQL tables, with their properties:\n",
    "#\n",
    "# inventory(Name, Brewery, Type, Alcohol, Stock, Strong, Country)\n",
    "#\n",
    "### {question}\n",
    "SELECT\n",
    "'''\n",
    "\n",
    "query = 'SELECT ' + codex_model(prompt_input)\n",
    "print(query, '\\n')\n",
    "cursor.execute(query)\n",
    "df = pd.DataFrame(cursor.fetchall())\n",
    "df.columns = [desc[0] for desc in cursor.description]\n",
    "print([desc[0] for desc in cursor.description])\n",
    "df"
   ]
  },
  {
   "cell_type": "code",
   "execution_count": 69,
   "id": "47fc53ac-5d1d-4087-af4f-377f1a8df1b5",
   "metadata": {},
   "outputs": [],
   "source": [
    "cursor.close()"
   ]
  },
  {
   "cell_type": "markdown",
   "id": "106b6e05-1a62-4e70-85cd-adfb2f40ad2a",
   "metadata": {},
   "source": [
    "## Example 2: Generate Python code based on natural language\n",
    "The result from the above query is stored in a dataframe named df, let's ask our model to create code to sort the dataframe alphabetically."
   ]
  },
  {
   "cell_type": "code",
   "execution_count": 70,
   "id": "b5443d1e-733f-40f1-9ae2-062a1e8ba3c8",
   "metadata": {},
   "outputs": [],
   "source": [
    "question = 'Create a function that generates a seaborn bar plot for a given dataframe.' \\\n",
    "'The first column should be on the y axis and the second column on the x axis.#'"
   ]
  },
  {
   "cell_type": "code",
   "execution_count": 71,
   "id": "d61ca759-81ce-4d80-9178-a9276e1920c4",
   "metadata": {},
   "outputs": [
    {
     "name": "stdout",
     "output_type": "stream",
     "text": [
      "def bar_plot(df):\n",
      "    sns.barplot(x=df.columns[1], y=df.columns[0], data=df)\n",
      "    plt.show()\n",
      "\n",
      "bar_plot(df)\n"
     ]
    },
    {
     "data": {
      "image/png": "[encoded data removed]",
      "text/plain": [
       "<Figure size 432x288 with 1 Axes>"
      ]
     },
     "metadata": {
      "needs_background": "light"
     },
     "output_type": "display_data"
    }
   ],
   "source": [
    "generated_code = codex_model(question)\n",
    "print(generated_code)\n",
    "exec(generated_code)"
   ]
  },
  {
   "cell_type": "markdown",
   "id": "0e153274-82b4-45fd-a983-a1ff2d3ecdca",
   "metadata": {},
   "source": [
    "## Example 3: Write a Python docstring for a function\n",
    "We specify the Python version, paste in the code, and then ask within a comment for a docstring, and give a characteristic beginning of a docstring (\"\"\")."
   ]
  },
  {
   "cell_type": "code",
   "execution_count": 75,
   "id": "1f3fe116-c299-4dae-9927-3352d6add79e",
   "metadata": {},
   "outputs": [
    {
     "name": "stdout",
     "output_type": "stream",
     "text": [
      "def get_user_input():\n",
      "    \"\"\"\n",
      "    This function prompts the user for a number and returns it.\n",
      "    \"\"\"\n",
      "    return int(input(\"Enter a number: \"))\n"
     ]
    }
   ],
   "source": [
    "question = '# Create a high-quality docstring for the above function#'\n",
    "print(codex_model(question))"
   ]
  }
 ],
 "metadata": {
  "editor": "DataCamp Workspace",
  "kernelspec": {
   "display_name": "Python 3 (ipykernel)",
   "language": "python",
   "name": "python3"
  },
  "language_info": {
   "codemirror_mode": {
    "name": "ipython",
    "version": 3
   },
   "file_extension": ".py",
   "mimetype": "text/x-python",
   "name": "python",
   "nbconvert_exporter": "python",
   "pygments_lexer": "ipython3",
   "version": "3.10.4"
  }
 },
 "nbformat": 4,
 "nbformat_minor": 5
}
